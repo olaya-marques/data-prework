{
 "cells": [
  {
   "cell_type": "code",
   "execution_count": 1,
   "metadata": {},
   "outputs": [],
   "source": [
    "import random"
   ]
  },
  {
   "cell_type": "code",
   "execution_count": 2,
   "metadata": {},
   "outputs": [],
   "source": [
    "gestures=[\"rock\",\"paper\",\"scissors\"]"
   ]
  },
  {
   "cell_type": "code",
   "execution_count": 3,
   "metadata": {},
   "outputs": [],
   "source": [
    "n_rounds=3"
   ]
  },
  {
   "cell_type": "code",
   "execution_count": 4,
   "metadata": {},
   "outputs": [],
   "source": [
    "rounds_to_win=(n_rounds+1)/2"
   ]
  },
  {
   "cell_type": "code",
   "execution_count": 5,
   "metadata": {},
   "outputs": [],
   "source": [
    "cpu_score=0\n",
    "player_score=0"
   ]
  },
  {
   "cell_type": "code",
   "execution_count": 6,
   "metadata": {},
   "outputs": [],
   "source": [
    "randomgestures=random.choice(gestures)"
   ]
  },
  {
   "cell_type": "code",
   "execution_count": 7,
   "metadata": {},
   "outputs": [],
   "source": [
    "def gestureinput():\n",
    "    player_gesture = 0\n",
    "    while player_gesture != (\"rock\" or \"paper\" or \"scissors\"):\n",
    "        player_gesture = input(\"Choose one 'rock', 'paper' or 'scissors':\")\n",
    "        return player_gesture"
   ]
  },
  {
   "cell_type": "code",
   "execution_count": 8,
   "metadata": {},
   "outputs": [],
   "source": [
    "def who_win(x, y):\n",
    "  if x == \"rock\":\n",
    "        if y ==\"paper\":\n",
    "            return 1\n",
    "        elif y ==\"scissors\":\n",
    "            return 2\n",
    "        else:\n",
    "            return 0\n",
    "  if x == \"paper\":\n",
    "        if y ==\"scissors\":\n",
    "            return 1\n",
    "        elif y ==\"rock\":\n",
    "            return 2\n",
    "        else:\n",
    "            return 0\n",
    "  if x == \"scissors\":\n",
    "        if y ==\"rock\":\n",
    "            return 1\n",
    "        elif y ==\"paper\":\n",
    "            return 2\n",
    "        else:\n",
    "            return 0"
   ]
  },
  {
   "cell_type": "code",
   "execution_count": null,
   "metadata": {},
   "outputs": [],
   "source": [
    "c_round = 0\n",
    "def rps_round():\n",
    "    global c_round\n",
    "    global cpu_score\n",
    "    global player_score\n",
    "    playergest = gestureinput()\n",
    "    randomgest = random.choice(gestures)\n",
    "    print(\"Your choice:\", playergest)\n",
    "    print(\"Computer choice:\", randomgest)\n",
    "    c_round += 1 \n",
    "    print(\"Current round:\",c_round)\n",
    "    if who_win(playergest,randomgest) == 1:\n",
    "        print(\"Computer wins round!\")\n",
    "        cpu_score += 1\n",
    "    elif who_win(playergest,randomgest) == 2:\n",
    "        print(\"Player wins round!\")\n",
    "        player_score += 1\n",
    "    else:\n",
    "        print(\"Tie!\")\n",
    "rps_round()"
   ]
  },
  {
   "cell_type": "code",
   "execution_count": null,
   "metadata": {},
   "outputs": [],
   "source": [
    "cround = 0\n",
    "cpu_score = 0\n",
    "player_score = 0\n",
    "while c_round != n_rounds:\n",
    "    rps_round()"
   ]
  },
  {
   "cell_type": "code",
   "execution_count": null,
   "metadata": {},
   "outputs": [],
   "source": [
    "if player_score > cpu_score:\n",
    "    print(\"Player won the game!\")\n",
    "elif cpu_score > player_score:\n",
    "    print(\"Computer won the game!\")\n",
    "else:\n",
    "    print(\"Tie\")\n",
    "    \n",
    "print(\"End\")"
   ]
  }
 ],
 "metadata": {
  "kernelspec": {
   "display_name": "Python 3",
   "language": "python",
   "name": "python3"
  },
  "language_info": {
   "codemirror_mode": {
    "name": "ipython",
    "version": 3
   },
   "file_extension": ".py",
   "mimetype": "text/x-python",
   "name": "python",
   "nbconvert_exporter": "python",
   "pygments_lexer": "ipython3",
   "version": "3.7.4"
  }
 },
 "nbformat": 4,
 "nbformat_minor": 2
}
