{
 "cells": [
  {
   "cell_type": "code",
   "execution_count": 1,
   "metadata": {},
   "outputs": [],
   "source": [
    "gandalf = [10, 11, 13, 30, 22, 11, 10, 33, 22, 22]\n",
    "saruman = [23, 66, 12, 43, 12, 10, 44, 23, 12, 17]"
   ]
  },
  {
   "cell_type": "code",
   "execution_count": 2,
   "metadata": {},
   "outputs": [],
   "source": [
    "gandalf_wins=0\n",
    "saruman_wins=0"
   ]
  },
  {
   "cell_type": "code",
   "execution_count": 3,
   "metadata": {},
   "outputs": [
    {
     "name": "stdout",
     "output_type": "stream",
     "text": [
      "Gandalf has 6 victories\n",
      "Saruman has 4 victories\n"
     ]
    }
   ],
   "source": [
    "for x,y in zip(gandalf,saruman):\n",
    "  if x>y:\n",
    "    gandalf_wins += 1\n",
    "  elif y>x:\n",
    "    saruman_wins += 1\n",
    "  else:\n",
    "    gandalf_wins += 0\n",
    "    saruman_wins += 0\n",
    "print(\"Gandalf has\",gandalf_wins,\"victories\")\n",
    "print(\"Saruman has\",saruman_wins,\"victories\")"
   ]
  },
  {
   "cell_type": "code",
   "execution_count": 4,
   "metadata": {},
   "outputs": [
    {
     "name": "stdout",
     "output_type": "stream",
     "text": [
      "The winner is Gandalf with 6 victories\n"
     ]
    }
   ],
   "source": [
    "if gandalf_wins>saruman_wins:\n",
    "  print(\"The winner is Gandalf with\",gandalf_wins,\"victories\")\n",
    "elif gandalf_wins<saruman_wins:\n",
    "  print(\"The winner is Saruman\",saruman_wins,\"victories\")\n",
    "else:\n",
    "  print(\"There is a tie\")"
   ]
  },
  {
   "cell_type": "code",
   "execution_count": 5,
   "metadata": {},
   "outputs": [],
   "source": [
    "#bonus"
   ]
  },
  {
   "cell_type": "code",
   "execution_count": 6,
   "metadata": {},
   "outputs": [],
   "source": [
    "POWER = {'Fireball': 50, 'Lightning bolt': 40, 'Magic arrow': 10, 'Black Tentacles': 25,   'Contagion': 45}\n",
    "gandalf = ['Fireball', 'Lightning bolt', 'Lightning bolt', 'Magic arrow', 'Fireball', 'Magic arrow', 'Lightning bolt', 'Fireball','Fireball', 'Fireball']\n",
    "saruman = ['Contagion', 'Contagion', 'Black Tentacles', 'Fireball', 'Black Tentacles', 'Lightning bolt', 'Magic arrow', 'Contagion', 'Magic arrow', 'Magic arrow']"
   ]
  },
  {
   "cell_type": "code",
   "execution_count": 7,
   "metadata": {},
   "outputs": [],
   "source": [
    "gandalf_power=[]\n",
    "saruman_power=[]"
   ]
  },
  {
   "cell_type": "code",
   "execution_count": 8,
   "metadata": {},
   "outputs": [
    {
     "name": "stdout",
     "output_type": "stream",
     "text": [
      "Gandalf= [50, 40, 40, 10, 50, 10, 40, 50, 50, 50]\n",
      "Saruman= [45, 45, 25, 50, 25, 40, 10, 45, 10, 10]\n"
     ]
    }
   ],
   "source": [
    "for x in gandalf:\n",
    "  gandalf_power.append(POWER[x])\n",
    "print(\"Gandalf=\",gandalf_power)\n",
    "for y in saruman:\n",
    "  saruman_power.append(POWER[y])\n",
    "print(\"Saruman=\",saruman_power)"
   ]
  },
  {
   "cell_type": "code",
   "execution_count": 9,
   "metadata": {},
   "outputs": [
    {
     "name": "stdout",
     "output_type": "stream",
     "text": [
      "The winner is Gandalf\n"
     ]
    }
   ],
   "source": [
    "wins=[]\n",
    "wins_1row= 3\n",
    "for x,y in zip (gandalf_power,saruman_power):\n",
    "  if x>y:\n",
    "    wins.append(\"Gandalf\")\n",
    "  elif x<y:\n",
    "    wins.append(\"Saruman\")\n",
    "\n",
    "for z in range (len(wins)-(wins_1row-1)):\n",
    "  if wins[z]==wins[z+1] and wins[z]==wins[z+2]:\n",
    "    winner=wins[z]\n",
    "  else:\n",
    "    winner=\"no winner\" #tie\n",
    "\n",
    "print(\"The winner is\", winner)"
   ]
  },
  {
   "cell_type": "code",
   "execution_count": 10,
   "metadata": {},
   "outputs": [
    {
     "name": "stdout",
     "output_type": "stream",
     "text": [
      "The average spell power of Gandalf is 39.0\n",
      "The average spell power of Saruman is 30.5\n"
     ]
    }
   ],
   "source": [
    "avg_gandalf = sum(gandalf_power)/len(gandalf_power)\n",
    "avg_saruman = sum(saruman_power)/len(saruman_power)\n",
    "print(\"The average spell power of Gandalf is\",avg_gandalf)\n",
    "print(\"The average spell power of Saruman is\",avg_saruman)"
   ]
  },
  {
   "cell_type": "code",
   "execution_count": 14,
   "metadata": {},
   "outputs": [
    {
     "name": "stdout",
     "output_type": "stream",
     "text": [
      "The standar desviation of Gandalf is 15.951314818673865\n",
      "The standar desviation of Saruman is 16.40629960309962\n"
     ]
    }
   ],
   "source": [
    "import statistics\n",
    "stdev_gandalf=statistics.stdev(gandalf_power)\n",
    "stdev_saruman=statistics.stdev(saruman_power)\n",
    "print(\"The standar desviation of Gandalf is\",stdev_gandalf)\n",
    "print(\"The standar desviation of Saruman is\",stdev_saruman)"
   ]
  },
  {
   "cell_type": "code",
   "execution_count": null,
   "metadata": {},
   "outputs": [],
   "source": []
  }
 ],
 "metadata": {
  "kernelspec": {
   "display_name": "Python 3",
   "language": "python",
   "name": "python3"
  },
  "language_info": {
   "codemirror_mode": {
    "name": "ipython",
    "version": 3
   },
   "file_extension": ".py",
   "mimetype": "text/x-python",
   "name": "python",
   "nbconvert_exporter": "python",
   "pygments_lexer": "ipython3",
   "version": "3.7.4"
  }
 },
 "nbformat": 4,
 "nbformat_minor": 2
}
