{
 "cells": [
  {
   "cell_type": "code",
   "execution_count": 1,
   "metadata": {},
   "outputs": [],
   "source": [
    "well_height=125\n",
    "daily_distance=30\n",
    "nightly_distance=20\n",
    "snail_position=0\n",
    "total_days=0"
   ]
  },
  {
   "cell_type": "code",
   "execution_count": 2,
   "metadata": {},
   "outputs": [],
   "source": [
    "while snail_position<=well_height:\n",
    "  snail_position=snail_position+daily_distance\n",
    "  snail_position= snail_position-nightly_distance\n",
    "  total_days+=1"
   ]
  },
  {
   "cell_type": "code",
   "execution_count": 3,
   "metadata": {},
   "outputs": [
    {
     "name": "stdout",
     "output_type": "stream",
     "text": [
      "The snail will scape in 13 days\n"
     ]
    }
   ],
   "source": [
    "print(\"The snail will scape in\",total_days,\"days\")"
   ]
  },
  {
   "cell_type": "code",
   "execution_count": 4,
   "metadata": {},
   "outputs": [],
   "source": [
    "#bonus"
   ]
  },
  {
   "cell_type": "code",
   "execution_count": 5,
   "metadata": {},
   "outputs": [
    {
     "name": "stdout",
     "output_type": "stream",
     "text": [
      "In this case the snail will scape in 6 days\n"
     ]
    }
   ],
   "source": [
    "advance_cm = [30, 21, 33, 77, 44, 45, 23, 45, 12, 34, 55]\n",
    "nightly_distance=20\n",
    "snail_position_bonus=0\n",
    "total_days_bonus=0\n",
    "while snail_position_bonus<=well_height:\n",
    "  for x in advance_cm:\n",
    "    snail_position_bonus=snail_position_bonus+x\n",
    "    snail_position_bonus=snail_position_bonus-nightly_distance\n",
    "    total_days_bonus+=1\n",
    "    if snail_position_bonus>=well_height:\n",
    "      break\n",
    "print(\"In this case the snail will scape in\",total_days_bonus,\"days\")"
   ]
  },
  {
   "cell_type": "code",
   "execution_count": 6,
   "metadata": {},
   "outputs": [
    {
     "name": "stdout",
     "output_type": "stream",
     "text": [
      "The maximun displacement in one day is 57 cms and the minimun is 1 cms\n"
     ]
    }
   ],
   "source": [
    "displacements = []\n",
    "days=0\n",
    "total_cms=0\n",
    "for x in advance_cm:\n",
    "    days += 1\n",
    "    total_cms += x\n",
    "    displacements.append(x) \n",
    "    if total_cms >= well_height:\n",
    "        break\n",
    "    total_cms -= nightly_distance\n",
    "    displacements[-1] -= nightly_distance \n",
    "max_displacements=max(displacements)\n",
    "min_displacements=min(displacements)\n",
    "print(\"The maximun displacement in one day is\",max_displacements,\"cms and the minimun is\",min_displacements,\"cms\")"
   ]
  },
  {
   "cell_type": "code",
   "execution_count": 7,
   "metadata": {},
   "outputs": [
    {
     "name": "stdout",
     "output_type": "stream",
     "text": [
      "The average speed is 25.0 cm per day\n"
     ]
    }
   ],
   "source": [
    "avg_speed = sum(displacements) / len(displacements)\n",
    "print (\"The average speed is\",avg_speed,\"cm per day\")"
   ]
  },
  {
   "cell_type": "code",
   "execution_count": 8,
   "metadata": {},
   "outputs": [
    {
     "name": "stdout",
     "output_type": "stream",
     "text": [
      "The standard desviation is 24.13503677229434\n"
     ]
    }
   ],
   "source": [
    "import statistics\n",
    "std_dev = statistics.stdev(displacements)\n",
    "print(\"The standard desviation is\",std_dev)"
   ]
  },
  {
   "cell_type": "code",
   "execution_count": null,
   "metadata": {},
   "outputs": [],
   "source": []
  }
 ],
 "metadata": {
  "kernelspec": {
   "display_name": "Python 3",
   "language": "python",
   "name": "python3"
  },
  "language_info": {
   "codemirror_mode": {
    "name": "ipython",
    "version": 3
   },
   "file_extension": ".py",
   "mimetype": "text/x-python",
   "name": "python",
   "nbconvert_exporter": "python",
   "pygments_lexer": "ipython3",
   "version": "3.7.4"
  }
 },
 "nbformat": 4,
 "nbformat_minor": 2
}
