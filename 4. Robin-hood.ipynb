{
 "cells": [
  {
   "cell_type": "code",
   "execution_count": 5,
   "metadata": {},
   "outputs": [],
   "source": [
    "points = [(4, 5), (-0, 2), (4, 7), (1, -3), (3, -2), (4, 5), (3, 2), (5, 7), (-5, 7), (2, 2), (-4, 5), (0, -2),(-4, 7), (-1, 3), (-3, 2), (-4, -5), (-3, 2), (5, 7), (5, 7), (2, 2), (9, 9), (-8, -9)]"
   ]
  },
  {
   "cell_type": "code",
   "execution_count": 8,
   "metadata": {},
   "outputs": [
    {
     "name": "stdout",
     "output_type": "stream",
     "text": [
      "Coordinates = dict_keys([(4, 5), (5, 7), (-3, 2), (2, 2)])\n"
     ]
    }
   ],
   "source": [
    "unique_pts= set(points)\n",
    "coordinates= {}\n",
    "for x in unique_pts:\n",
    "  arrows_coordinates= points.count(x)\n",
    "  if arrows_coordinates > 1:\n",
    "    coordinates[x]=points.count(x)\n",
    "print(\"Coordinates =\",coordinates.keys())"
   ]
  },
  {
   "cell_type": "code",
   "execution_count": 11,
   "metadata": {},
   "outputs": [
    {
     "name": "stdout",
     "output_type": "stream",
     "text": [
      "Q1= 10 arrows\n",
      "Q2= 6 arrows\n",
      "Q3= 2 arrows\n",
      "Q4= 2 arrows\n",
      "Center= 0 arrows\n",
      "None quadrant= 2 arrows\n"
     ]
    }
   ],
   "source": [
    "Q1=0\n",
    "Q2=0\n",
    "Q3=0\n",
    "Q4=0\n",
    "center=0\n",
    "none_quadrant=0\n",
    "for x,y in points:\n",
    "  if x>0 and y>0:\n",
    "    Q1 += 1\n",
    "  elif x<0 and y>0:\n",
    "    Q2 +=1\n",
    "  elif x<0 and y<0:\n",
    "    Q3 +=1\n",
    "  elif x>0 and y<0:\n",
    "    Q4 +=1\n",
    "  elif x==0 and y==0:\n",
    "    center +=1\n",
    "  else:\n",
    "    none_quadrant +=1\n",
    "print(\"Q1=\",Q1,\"arrows\")\n",
    "print(\"Q2=\",Q2,\"arrows\")\n",
    "print(\"Q3=\",Q3,\"arrows\")\n",
    "print(\"Q4=\",Q4,\"arrows\")\n",
    "print(\"Center=\",center,\"arrows\")\n",
    "print(\"None quadrant=\",none_quadrant,\"arrows\")"
   ]
  },
  {
   "cell_type": "code",
   "execution_count": 12,
   "metadata": {},
   "outputs": [
    {
     "name": "stdout",
     "output_type": "stream",
     "text": [
      "The closest point to the center is (0, 2)\n"
     ]
    }
   ],
   "source": [
    "def distance_center(x,y):\n",
    "  d=(x**2 + y**2)**(1/2)\n",
    "  return d\n",
    "distance_points= {}\n",
    "for x,y in points:\n",
    "  distance=distance_center(x,y)\n",
    "  distance_points[x,y]=distance\n",
    "distance_list = list(distance_points.values())\n",
    "min_distance = min(distance_list)\n",
    "closest_point = list(distance_points.keys())[list(distance_points.values()).index(min_distance)] \n",
    "print(\"The closest point to the center is\",closest_point)"
   ]
  },
  {
   "cell_type": "code",
   "execution_count": 13,
   "metadata": {},
   "outputs": [
    {
     "name": "stdout",
     "output_type": "stream",
     "text": [
      "2 arrows will not hit the target\n"
     ]
    }
   ],
   "source": [
    "radius=9\n",
    "fail_arrows=0\n",
    "for x,y in points:\n",
    "  if (x**2 + y**2)>radius**2:\n",
    "    fail_arrows+=1\n",
    "print (fail_arrows,\"arrows will not hit the target\")"
   ]
  },
  {
   "cell_type": "code",
   "execution_count": null,
   "metadata": {},
   "outputs": [],
   "source": []
  }
 ],
 "metadata": {
  "kernelspec": {
   "display_name": "Python 3",
   "language": "python",
   "name": "python3"
  },
  "language_info": {
   "codemirror_mode": {
    "name": "ipython",
    "version": 3
   },
   "file_extension": ".py",
   "mimetype": "text/x-python",
   "name": "python",
   "nbconvert_exporter": "python",
   "pygments_lexer": "ipython3",
   "version": "3.7.4"
  }
 },
 "nbformat": 4,
 "nbformat_minor": 2
}
