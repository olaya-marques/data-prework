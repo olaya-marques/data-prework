{
 "cells": [
  {
   "cell_type": "code",
   "execution_count": 4,
   "metadata": {},
   "outputs": [],
   "source": [
    "temperatures_C = [33, 66, 65, 0, 59, 60, 62, 64, 70, 76, 80, 81, 80, 83, 90, 79, 61, 53, 50, 49, 53, 48, 45, 39]"
   ]
  },
  {
   "cell_type": "code",
   "execution_count": 5,
   "metadata": {},
   "outputs": [
    {
     "name": "stdout",
     "output_type": "stream",
     "text": [
      "The minimun of temperature is 0\n"
     ]
    }
   ],
   "source": [
    "min_temperature=min(temperatures_C)\n",
    "print (\"The minimun of temperature is\",min_temperature)"
   ]
  },
  {
   "cell_type": "code",
   "execution_count": 6,
   "metadata": {},
   "outputs": [
    {
     "name": "stdout",
     "output_type": "stream",
     "text": [
      "The maximun of temperature is 90\n"
     ]
    }
   ],
   "source": [
    "max_temperature=max(temperatures_C)\n",
    "print(\"The maximun of temperature is\",max_temperature)"
   ]
  },
  {
   "cell_type": "code",
   "execution_count": 7,
   "metadata": {},
   "outputs": [
    {
     "name": "stdout",
     "output_type": "stream",
     "text": [
      "Temperatures that are equal or greater than 70  are: [70, 76, 80, 81, 80, 83, 90, 79]\n"
     ]
    }
   ],
   "source": [
    "temperatures_goe70=[]\n",
    "for x in temperatures_C:\n",
    "  if x>=70:\n",
    "    temperatures_goe70.append(x)\n",
    "print(\"Temperatures that are equal or greater than 70  are:\", temperatures_goe70)"
   ]
  },
  {
   "cell_type": "code",
   "execution_count": 8,
   "metadata": {},
   "outputs": [
    {
     "name": "stdout",
     "output_type": "stream",
     "text": [
      "The average temperature of a day is 60.25\n"
     ]
    }
   ],
   "source": [
    "avg_temperature=sum(temperatures_C)/len(temperatures_C)\n",
    "print(\"The average temperature of a day is\",avg_temperature)"
   ]
  },
  {
   "cell_type": "code",
   "execution_count": 10,
   "metadata": {},
   "outputs": [
    {
     "name": "stdout",
     "output_type": "stream",
     "text": [
      "The average temperature with the estimated value at 3:00 is: 62.0\n",
      "[33, 66, 65, 62.0, 59, 60, 62, 64, 70, 76, 80, 81, 80, 83, 90, 79, 61, 53, 50, 49, 53, 48, 45, 39]\n"
     ]
    }
   ],
   "source": [
    "new_avg_temperature=sum(temperatures_C)/len(temperatures_C)-1\n",
    "value_at3= (temperatures_C[2]+temperatures_C[4])/2\n",
    "temperatures_C[3]=value_at3\n",
    "print(\"The average temperature with the estimated value at 3:00 is:\",value_at3)\n",
    "print(temperatures_C)"
   ]
  },
  {
   "cell_type": "code",
   "execution_count": 14,
   "metadata": {},
   "outputs": [
    {
     "name": "stdout",
     "output_type": "stream",
     "text": [
      "Temperature in ºFahrenheit: [91.4, 150.8, 149.0, 143.60000000000002, 138.2, 140.0, 143.60000000000002, 147.2, 158.0, 168.8, 176.0, 177.8, 176.0, 181.4, 194.0, 174.20000000000002, 141.8, 127.4, 122.0, 120.2, 127.4, 118.4, 113.0, 102.2]\n"
     ]
    }
   ],
   "source": [
    "temperatures_F=[]\n",
    "for x in temperatures_C:\n",
    "    Ftemp = 1.8 * x + 32\n",
    "    temperatures_F.append(Ftemp)\n",
    "\n",
    "print(\"Temperature in ºFahrenheit:\",temperatures_F)"
   ]
  },
  {
   "cell_type": "code",
   "execution_count": 25,
   "metadata": {},
   "outputs": [
    {
     "name": "stdout",
     "output_type": "stream",
     "text": [
      "True\n"
     ]
    }
   ],
   "source": [
    "temperatures_goe80=[]\n",
    "for x in temperatures_C:\n",
    "  if x>=80:\n",
    "    temperatures_goe80.append(x)\n",
    "    \n",
    "#Taking the decision:\n",
    "if len(temperatures_goe70) > 4 or len(temperatures_goe80) != 0 or avg_temperature > 65:\n",
    "    print(\"True\") #A change is needed\n",
    "else:\n",
    "    print(\"False\") #A change is not needed"
   ]
  },
  {
   "cell_type": "code",
   "execution_count": 26,
   "metadata": {},
   "outputs": [],
   "source": [
    "#bonus"
   ]
  },
  {
   "cell_type": "code",
   "execution_count": 37,
   "metadata": {
    "scrolled": true
   },
   "outputs": [
    {
     "name": "stdout",
     "output_type": "stream",
     "text": [
      "The hours whose temperatures are greater than 70º are: [8, 9, 10, 11, 12, 13, 14, 15]\n"
     ]
    }
   ],
   "source": [
    "hours_g70 = []\n",
    "for h,x in enumerate(temperatures_C):\n",
    "    if x >= 70:\n",
    "        hours_g70.append(h)\n",
    "print(\"The hours whose temperatures are greater than 70º are:\",hours_g70)"
   ]
  },
  {
   "cell_type": "code",
   "execution_count": 66,
   "metadata": {},
   "outputs": [
    {
     "name": "stdout",
     "output_type": "stream",
     "text": [
      "True\n"
     ]
    }
   ],
   "source": [
    "for x in hours_g70:\n",
    "    if temperatures_C[x] >= 70 and temperatures_C[x+1] >= 70 and temperatures_C[x+2] >= 70 and temperatures_C[x+3] >= 70:\n",
    "        condition = \"True\" #Condition met\n",
    "    else:\n",
    "        condition = \"False\" #Condition not met\n",
    "\n",
    "sorted_hours_g70=sorted(hours_g70)\n",
    "if len(sorted_hours_g70) > 4:\n",
    "    print(\"True\")\n",
    "else:\n",
    "    print(\"False\")\n",
    "    \n",
    "#for x in hours_g70:\n",
    "    #if x+1==hours_g70[x+1] and x+2==hours_g70[x+2] and x+3==hours_g70[x+3]:\n",
    "        #condition = \"True\" #Condition met\n",
    "    #else:\n",
    "        #condition = \"False\" #Condition not met\n"
   ]
  },
  {
   "cell_type": "code",
   "execution_count": 61,
   "metadata": {},
   "outputs": [
    {
     "name": "stdout",
     "output_type": "stream",
     "text": [
      "True\n"
     ]
    }
   ],
   "source": [
    "if len(temperatures_goe70) > 4 or len(temperatures_goe80) != 0 or avg_temperature > 65:\n",
    "    print(\"True\") #A change is needed\n",
    "else:\n",
    "    print(\"False\") #A change is not needed"
   ]
  },
  {
   "cell_type": "code",
   "execution_count": 62,
   "metadata": {},
   "outputs": [
    {
     "name": "stdout",
     "output_type": "stream",
     "text": [
      "The avarage of the temperature in ºC= 62.833333333333336\n",
      "The avarage of the temperature in ºF= 145.1\n"
     ]
    }
   ],
   "source": [
    "avg_temperatures_C=sum(temperatures_C)/len(temperatures_C)\n",
    "print(\"The avarage of the temperature in ºC=\",avg_temperatures_C)\n",
    "avg_temperatures_F=sum(temperatures_F)/len(temperatures_F)\n",
    "print(\"The avarage of the temperature in ºF=\",avg_temperatures_F)"
   ]
  },
  {
   "cell_type": "code",
   "execution_count": 56,
   "metadata": {},
   "outputs": [
    {
     "name": "stdout",
     "output_type": "stream",
     "text": [
      "The standard desviation of the temperature in ºC= 14.94821980579356\n",
      "The standard desviation of the temperature in ºF= 26.906795650428407\n"
     ]
    }
   ],
   "source": [
    "import statistics\n",
    "stdev_temperatures_C=statistics.stdev(temperatures_C)\n",
    "print(\"The standard desviation of the temperature in ºC=\",stdev_temperatures_C)\n",
    "stdev_temperatures_F=statistics.stdev(temperatures_F)\n",
    "print(\"The standard desviation of the temperature in ºF=\",stdev_temperatures_F)"
   ]
  },
  {
   "cell_type": "code",
   "execution_count": null,
   "metadata": {},
   "outputs": [],
   "source": []
  }
 ],
 "metadata": {
  "kernelspec": {
   "display_name": "Python 3",
   "language": "python",
   "name": "python3"
  },
  "language_info": {
   "codemirror_mode": {
    "name": "ipython",
    "version": 3
   },
   "file_extension": ".py",
   "mimetype": "text/x-python",
   "name": "python",
   "nbconvert_exporter": "python",
   "pygments_lexer": "ipython3",
   "version": "3.7.4"
  }
 },
 "nbformat": 4,
 "nbformat_minor": 2
}
