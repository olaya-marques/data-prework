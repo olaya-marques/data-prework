{
 "cells": [
  {
   "cell_type": "code",
   "execution_count": 1,
   "metadata": {},
   "outputs": [],
   "source": [
    "stops = [(10, 0), (4, 1), (3, 5), (3, 4), (5, 1), (1, 5), (5, 8), (4, 6), (2, 3)]"
   ]
  },
  {
   "cell_type": "code",
   "execution_count": 2,
   "metadata": {},
   "outputs": [
    {
     "name": "stdout",
     "output_type": "stream",
     "text": [
      "There are 9 stops\n"
     ]
    }
   ],
   "source": [
    "print(\"There are\", len(stops), \"stops\")"
   ]
  },
  {
   "cell_type": "code",
   "execution_count": 7,
   "metadata": {},
   "outputs": [
    {
     "name": "stdout",
     "output_type": "stream",
     "text": [
      "[10, 13, 11, 10, 14, 10, 7, 5, 4]\n"
     ]
    }
   ],
   "source": [
    "number_of_passengers=[]\n",
    "total_passengers= 0\n",
    "for x,y in stops: #x=in and y=out\n",
    "  total_passengers += (x-y)\n",
    "  number_of_passengers.append(total_passengers)\n",
    "print(number_of_passengers)"
   ]
  },
  {
   "cell_type": "code",
   "execution_count": 8,
   "metadata": {},
   "outputs": [
    {
     "name": "stdout",
     "output_type": "stream",
     "text": [
      "The maximun ocupation of the bus is 14\n"
     ]
    }
   ],
   "source": [
    "max_occupation=max(number_of_passengers)\n",
    "print(\"The maximun ocupation of the bus is\", max_occupation)"
   ]
  },
  {
   "cell_type": "code",
   "execution_count": 9,
   "metadata": {},
   "outputs": [
    {
     "name": "stdout",
     "output_type": "stream",
     "text": [
      "The average occupation is 9.333333333333334\n",
      "The standard desviation for bus occupation is 3.391164991562634\n"
     ]
    }
   ],
   "source": [
    "avg_occupation=sum(number_of_passengers)/len(number_of_passengers)\n",
    "print(\"The average occupation is\",avg_occupation)\n",
    "import statistics\n",
    "stdev_occupation=statistics.stdev(number_of_passengers)\n",
    "print(\"The standard desviation for bus occupation is\",stdev_occupation)"
   ]
  },
  {
   "cell_type": "code",
   "execution_count": null,
   "metadata": {},
   "outputs": [],
   "source": []
  }
 ],
 "metadata": {
  "kernelspec": {
   "display_name": "Python 3",
   "language": "python",
   "name": "python3"
  },
  "language_info": {
   "codemirror_mode": {
    "name": "ipython",
    "version": 3
   },
   "file_extension": ".py",
   "mimetype": "text/x-python",
   "name": "python",
   "nbconvert_exporter": "python",
   "pygments_lexer": "ipython3",
   "version": "3.7.4"
  }
 },
 "nbformat": 4,
 "nbformat_minor": 2
}
